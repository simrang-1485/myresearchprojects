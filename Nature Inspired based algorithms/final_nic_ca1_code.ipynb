{
 "cells": [
  {
   "cell_type": "code",
   "execution_count": 9,
   "id": "577c5142",
   "metadata": {},
   "outputs": [],
   "source": [
    "import numpy as np                     #importing required libraries\n",
    "import matplotlib.pyplot as plt"
   ]
  },
  {
   "cell_type": "code",
   "execution_count": 2,
   "id": "82002865",
   "metadata": {},
   "outputs": [],
   "source": [
    "def fitness_sel(weight,value,threshold,population):   # fitness calculation function as per the size of population\n",
    "    fitness = np.empty(len(population))\n",
    "    for i in range (0,len(population)):\n",
    "        values_sum = 0\n",
    "        weight_sum = 0\n",
    "        for j in range (0,100):\n",
    "            values_sum += population[i][j] * value[j]\n",
    "            weight_sum += population[i][j] * weight[j]\n",
    "        if weight_sum <= threshold:                # checking the threshold limit for calculation of fitness\n",
    "            fitness[i] = values_sum\n",
    "        else :\n",
    "            fitness[i] = 0                      # if weight is exceeding limit set fitness to zero\n",
    "    return fitness                                 # returning the fitness value "
   ]
  },
  {
   "cell_type": "code",
   "execution_count": 10,
   "id": "3baf8096",
   "metadata": {},
   "outputs": [],
   "source": [
    "def tour_selection(fitness, population, numb):           # tournament function for generation of winner \n",
    "    vals = np.random.randint(0,len(population),numb)     # random selection as per the tournament size\n",
    "    winner = 0.0\n",
    "    winner_id = 0\n",
    "    for i in vals :\n",
    "        if fitness[i] > winner:\n",
    "            winner = fitness[i]\n",
    "            winner_id = i\n",
    "    return winner_id                                    # returning winner id back to get the parent"
   ]
  },
  {
   "cell_type": "code",
   "execution_count": 11,
   "id": "e092075c",
   "metadata": {},
   "outputs": [],
   "source": [
    "def crossover(parentA, parentB):                     # crossover between the parents for generating next better generation \n",
    "    cross = np.random.randint(0,len(parentA))         # generating a crossover point to perform crossover\n",
    "    for j in range (cross, len(parentA)):\n",
    "        temp = parentA[j]\n",
    "        parentA[j] = parentB[j]\n",
    "        parentB[j] = temp\n",
    "    return parentA, parentB                      # returning the parents after the crossover as new generated child"
   ]
  },
  {
   "cell_type": "code",
   "execution_count": 5,
   "id": "997c3c58",
   "metadata": {},
   "outputs": [],
   "source": [
    "def mutation(childA, childB,fitness):           # mutation of the children to get the better fit generation\n",
    "    locusA = np.random.randint(0,len(childA))   # generating a locus point to perform mutation\n",
    "    locusB = np.random.randint(0,len(childB))\n",
    "    if childA[locusA] == 0:                     # mutation for every child as per their locus point\n",
    "        childA[locusA] = 1 - childA[locusA]\n",
    "    if childB[locusB] == 0:\n",
    "        childB[locusB] = 1 - childB[locusB]\n",
    "    return childA, childB                    # mutant children are returned"
   ]
  },
  {
   "cell_type": "code",
   "execution_count": 12,
   "id": "84698d2e",
   "metadata": {},
   "outputs": [],
   "source": [
    "def worst_replace(childA, childB, population, fitness, value, weight, threshold):  # replacing the worst with the new generated children to get better population\n",
    "    values_sum1 = 0\n",
    "    values_sum2 = 0\n",
    "    weights_sum1 = 0\n",
    "    weights_sum2 = 0\n",
    "    for j in range (0,len(childA)):\n",
    "        values_sum1 += childA[j] * value[j]\n",
    "        values_sum2 += childB[j] * value[j]\n",
    "        weights_sum1 += childA[j] * weight[j]\n",
    "        weights_sum2 += childB[j] * weight[j]\n",
    "    val = np.argmin(fitness)\n",
    "    if weights_sum1 < threshold:            # checking the new geneartion weight as per the threshold limit and then do replacement\n",
    "        fitness[val] = values_sum1\n",
    "        population[val] = childA\n",
    "        val = np.argmin([np.argpartition(fitness, val)])\n",
    "    if weights_sum2 < threshold:\n",
    "        fitness[val] = values_sum2\n",
    "        population[val] = childB\n",
    "    return population, fitness    # returning the new population and fitness"
   ]
  },
  {
   "cell_type": "code",
   "execution_count": 13,
   "id": "4440a2ac",
   "metadata": {},
   "outputs": [],
   "source": [
    "def main():  # main function from which all the working starts and controlled \n",
    "    text_file = open(\"./BankProblem.txt\", \"r\")   # reading data from the given file\n",
    "    data = text_file.read().split('\\n')\n",
    "    van_weight = int(data[0].split(':')[1])    # maximum van capacity as per the data \n",
    "    weights = []                         # weight of the bags\n",
    "    values = []                          # values of the bag\n",
    "    for i in range (0, len(data)):\n",
    "        if 'weight' in data[i]:\n",
    "            weights.append(float(data[i].split(':')[1]))\n",
    "        elif 'value' in data[i]:\n",
    "            values.append(int(data[i].split(':')[1]))\n",
    "        i +=1\n",
    "    trials = input(\"Enter the number of trials you want - \")\n",
    "    pop_size = input(\"Enter the size of population - \")      # population size as per the requirement\n",
    "    tour_size = input(\"\\n Enter the tournament size - \")     # defining tournament size for further parent generation\n",
    "    iteration = input(\"\\n Enter the number of iterations - \") # number of times this process should work\n",
    "    cross = input(\"\\n Do you want to perform crossover? Y or N \") \n",
    "    mutation_rate =  input(\"\\n Enter the number of mutation you want to perform - \")\n",
    "    trial_fitness = []\n",
    "    for i in range (0,int(trials)):\n",
    "        best_fit = []                                           # best fitness generated after every fitness\n",
    "        population = np.random.randint(0,2,(int(pop_size),100))  # population generation\n",
    "        fitness = fitness_sel(weights,values,van_weight,population) # fitness generation\n",
    "        for i in range (0,int(iteration)):\n",
    "            index = tour_selection(fitness, population, int(tour_size))\n",
    "            parentA = population[index]\n",
    "            index = tour_selection(fitness, population, int(tour_size))\n",
    "            parentB = population[index]  #parent generated\n",
    "            childC = []\n",
    "            childD = []\n",
    "            if cross == 'y' or cross == 'Y' or cross == 'yes' or cross == 'Yes' or cross == 'YES':\n",
    "                childC, childD = crossover(parentA, parentB)          #crossover between parents for child generation\n",
    "            else:\n",
    "                childC = parentA                          # continuing with new generation without crossover \n",
    "                childD = parentB\n",
    "            mut_childE = []\n",
    "            mut_childF = []\n",
    "            for j in range (0, len(mutation_rate)):  # perform mutation as per the given rate\n",
    "                mut_childE, mut_childF = mutation(childC, childD,fitness)   #mutation of children \n",
    "            population,fitnesss = worst_replace(mut_childE, mut_childF, population, fitness, values,weights, van_weight) #worst case replacement with the population\n",
    "            best_fit.append(np.max(fitness))    \n",
    "            max_fit_id = np.argmax(fitness)\n",
    "        print(\"Maximum fitness is \", fitness[max_fit_id]) \n",
    "        plt.plot(np.arange(int(iteration)), best_fit)   # plotting the values of fitness for each trials\n",
    "        plt.scatter(int(iteration), fitness[max_fit_id]) # pointing to the maximum fitness of each trial\n",
    "        trial_fitness.append(fitness[max_fit_id])\n",
    "    plt.xlabel('Iterations')\n",
    "    plt.ylabel('Fitness')\n",
    "    plt.show()\n",
    "    print('Fitness are - ', trial_fitness)"
   ]
  },
  {
   "cell_type": "code",
   "execution_count": 14,
   "id": "0b337938",
   "metadata": {},
   "outputs": [
    {
     "name": "stdout",
     "output_type": "stream",
     "text": [
      "Enter the number of trials you want - 5\n",
      "Enter the size of population - 100\n",
      "\n",
      " Enter the tournament size - 2\n",
      "\n",
      " Enter the number of iterations - 10000\n",
      "\n",
      " Do you want to perform crossover? Y or N Y\n",
      "\n",
      " Enter the number of mutation you want to perform - 1\n",
      "Maximum fitness is  4237.0\n",
      "Maximum fitness is  4296.0\n",
      "Maximum fitness is  4287.0\n",
      "Maximum fitness is  4086.0\n",
      "Maximum fitness is  4228.0\n"
     ]
    },
    {
     "data": {
      "image/png": "[encoded data removed]",
      "text/plain": [
       "<Figure size 432x288 with 1 Axes>"
      ]
     },
     "metadata": {
      "needs_background": "light"
     },
     "output_type": "display_data"
    },
    {
     "name": "stdout",
     "output_type": "stream",
     "text": [
      "Fitness are -  [4237.0, 4296.0, 4287.0, 4086.0, 4228.0]\n"
     ]
    }
   ],
   "source": [
    "main() "
   ]
  },
  {
   "cell_type": "code",
   "execution_count": null,
   "id": "05c0f77c",
   "metadata": {},
   "outputs": [],
   "source": []
  }
 ],
 "metadata": {
  "kernelspec": {
   "display_name": "Python 3 (ipykernel)",
   "language": "python",
   "name": "python3"
  },
  "language_info": {
   "codemirror_mode": {
    "name": "ipython",
    "version": 3
   },
   "file_extension": ".py",
   "mimetype": "text/x-python",
   "name": "python",
   "nbconvert_exporter": "python",
   "pygments_lexer": "ipython3",
   "version": "3.9.13"
  }
 },
 "nbformat": 4,
 "nbformat_minor": 5
}
